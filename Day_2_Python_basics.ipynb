{
  "nbformat": 4,
  "nbformat_minor": 0,
  "metadata": {
    "colab": {
      "name": "Day 2 Python basics.ipynb",
      "provenance": [],
      "authorship_tag": "ABX9TyOu2Bpp8y/V2MzzZ18VUR/j",
      "include_colab_link": true
    },
    "kernelspec": {
      "name": "python3",
      "display_name": "Python 3"
    },
    "language_info": {
      "name": "python"
    }
  },
  "cells": [
    {
      "cell_type": "markdown",
      "metadata": {
        "id": "view-in-github",
        "colab_type": "text"
      },
      "source": [
        "<a href=\"https://colab.research.google.com/github/sureshiete/Assignment/blob/main/Day_2_Python_basics.ipynb\" target=\"_parent\"><img src=\"https://colab.research.google.com/assets/colab-badge.svg\" alt=\"Open In Colab\"/></a>"
      ]
    },
    {
      "cell_type": "code",
      "metadata": {
        "id": "WaZ-l_XaqIy3"
      },
      "source": [
        "fruit='Apple'\n",
        "fruit\n",
        "#fruit[4]\n",
        "#fruit[5]\n",
        "#fruit[-1]\n",
        "\n",
        "\n"
      ],
      "execution_count": null,
      "outputs": []
    },
    {
      "cell_type": "code",
      "metadata": {
        "colab": {
          "base_uri": "https://localhost:8080/",
          "height": 35
        },
        "id": "-OcqyjPed19p",
        "outputId": "1cb95e3f-75fe-4917-b7f5-064264bed389"
      },
      "source": [
        "#string='String is one of Python's datatype'\n",
        "#string\n",
        "#string=\"String is one of Python's datatype\"\n",
        "#string\n",
        "#string='String is one of Python\\'s datatype'\n",
        "#string"
      ],
      "execution_count": null,
      "outputs": [
        {
          "output_type": "execute_result",
          "data": {
            "application/vnd.google.colaboratory.intrinsic+json": {
              "type": "string"
            },
            "text/plain": [
              "\"String is one of Python's datatype\""
            ]
          },
          "metadata": {
            "tags": []
          },
          "execution_count": 14
        }
      ]
    },
    {
      "cell_type": "code",
      "metadata": {
        "colab": {
          "base_uri": "https://localhost:8080/"
        },
        "id": "w2kNISlve8dg",
        "outputId": "320dcb17-e302-4392-8b6c-ab7da82ebcb7"
      },
      "source": [
        "print(\"Python is a great programming Langauge for Begginer\")\n",
        "Language='English'\n",
        "\n",
        "print(\"{} is a great programming Language for Begginer\" .format(Language))"
      ],
      "execution_count": null,
      "outputs": [
        {
          "output_type": "stream",
          "text": [
            "Python is a great programming Langauge for Begginer\n",
            "English is a great programming Language for Begginer\n"
          ],
          "name": "stdout"
        }
      ]
    },
    {
      "cell_type": "code",
      "metadata": {
        "id": "ipSieGZ2go-d"
      },
      "source": [
        "#string=\"Python programming is Easy\"\n",
        "#string\n",
        "#string.upper()\n",
        "#string.lower()\n"
      ],
      "execution_count": null,
      "outputs": []
    },
    {
      "cell_type": "code",
      "metadata": {
        "colab": {
          "base_uri": "https://localhost:8080/",
          "height": 35
        },
        "id": "RsZopM_xoBfp",
        "outputId": "0f6dddae-d0f9-44d7-bbf2-c709b78a4f53"
      },
      "source": [
        "line = 'the quick brown fox jumped over a lazy dog'\n",
        "line.replace('brown', 'red')"
      ],
      "execution_count": null,
      "outputs": [
        {
          "output_type": "execute_result",
          "data": {
            "application/vnd.google.colaboratory.intrinsic+json": {
              "type": "string"
            },
            "text/plain": [
              "'the quick red fox jumped over a lazy dog'"
            ]
          },
          "metadata": {
            "tags": []
          },
          "execution_count": 60
        }
      ]
    },
    {
      "cell_type": "code",
      "metadata": {
        "colab": {
          "base_uri": "https://localhost:8080/",
          "height": 35
        },
        "id": "7ojzs4EAmZNZ",
        "outputId": "f3193661-cd53-4ff1-d861-a174061502d2"
      },
      "source": [
        "string= \"Python programming is Easy\" \n",
        "string[0:3]\n",
        "string"
      ],
      "execution_count": null,
      "outputs": [
        {
          "output_type": "execute_result",
          "data": {
            "application/vnd.google.colaboratory.intrinsic+json": {
              "type": "string"
            },
            "text/plain": [
              "'Python programming is Easy'"
            ]
          },
          "metadata": {
            "tags": []
          },
          "execution_count": 54
        }
      ]
    },
    {
      "cell_type": "code",
      "metadata": {
        "colab": {
          "base_uri": "https://localhost:8080/"
        },
        "id": "kQHPdyjhoXZ-",
        "outputId": "1010396a-37f6-40fc-deab-a02a7040adb3"
      },
      "source": [
        "string=\"twenty four\"\n",
        "len(string)\n"
      ],
      "execution_count": null,
      "outputs": [
        {
          "output_type": "execute_result",
          "data": {
            "text/plain": [
              "11"
            ]
          },
          "metadata": {
            "tags": []
          },
          "execution_count": 56
        }
      ]
    },
    {
      "cell_type": "markdown",
      "metadata": {
        "id": "7LTxdEilpD_m"
      },
      "source": [
        "LIST# It is container that holds many object under single name. Used for accesing "
      ]
    },
    {
      "cell_type": "code",
      "metadata": {
        "id": "ss6050FmwtBm"
      },
      "source": [
        "#syntax-> listname=[object1, object2,....]\n",
        "favouriteFruits=['apple','mango','strawberry']\n",
        "favouriteFruits[0]"
      ],
      "execution_count": null,
      "outputs": []
    },
    {
      "cell_type": "code",
      "metadata": {
        "colab": {
          "base_uri": "https://localhost:8080/"
        },
        "id": "eJZKjKZLY0Wz",
        "outputId": "05842565-9184-4db8-eaa1-c269fc00119a"
      },
      "source": [
        "# Modification\n",
        "favouriteFruits[1]='orange'\n",
        "favouriteFruits"
      ],
      "execution_count": 63,
      "outputs": [
        {
          "output_type": "execute_result",
          "data": {
            "text/plain": [
              "['apple', 'orange', 'strawberry']"
            ]
          },
          "metadata": {
            "tags": []
          },
          "execution_count": 63
        }
      ]
    },
    {
      "cell_type": "markdown",
      "metadata": {
        "id": "f4ij9pGEZHVQ"
      },
      "source": [
        "LIST OPERATIONS\n"
      ]
    },
    {
      "cell_type": "code",
      "metadata": {
        "colab": {
          "base_uri": "https://localhost:8080/"
        },
        "id": "I15G_yvkZMV4",
        "outputId": "64ab7c40-d1f4-47ff-d47f-cb093ce71379"
      },
      "source": [
        "favouriteFruits=['Apple','orane', 'strawberry']\n",
        "\n",
        "favouriteFruits.append(\"kiwi\") # it will add the obeject as last one\n",
        "favouriteFruits"
      ],
      "execution_count": 66,
      "outputs": [
        {
          "output_type": "execute_result",
          "data": {
            "text/plain": [
              "['Apple', 'orane', 'strawberry', 'kiwi']"
            ]
          },
          "metadata": {
            "tags": []
          },
          "execution_count": 66
        }
      ]
    },
    {
      "cell_type": "markdown",
      "metadata": {
        "id": "KJQdVDT0fT44"
      },
      "source": [
        "list.insert (1,\" adding object\")\n",
        "\n"
      ]
    },
    {
      "cell_type": "code",
      "metadata": {
        "colab": {
          "base_uri": "https://localhost:8080/"
        },
        "id": "WY-Dl9vraY_Q",
        "outputId": "2f834ac5-a5a0-47b8-8193-2f31e603bb66"
      },
      "source": [
        "favouriteFruits.insert(1,\"mango\")\n",
        "favouriteFruits\n"
      ],
      "execution_count": 67,
      "outputs": [
        {
          "output_type": "execute_result",
          "data": {
            "text/plain": [
              "['Apple', 'mango', 'orane', 'strawberry', 'kiwi']"
            ]
          },
          "metadata": {
            "tags": []
          },
          "execution_count": 67
        }
      ]
    },
    {
      "cell_type": "markdown",
      "metadata": {
        "id": "Nx3Lw-uFap7Y"
      },
      "source": [
        "List.remove(\"removal object\")"
      ]
    },
    {
      "cell_type": "code",
      "metadata": {
        "colab": {
          "base_uri": "https://localhost:8080/"
        },
        "id": "OAoWmF35ayyI",
        "outputId": "782f1d94-f0f8-4479-9839-632a5a8dd627"
      },
      "source": [
        "favouriteFruits.remove(\"strawberry\")\n",
        "favouriteFruits"
      ],
      "execution_count": 68,
      "outputs": [
        {
          "output_type": "execute_result",
          "data": {
            "text/plain": [
              "['Apple', 'mango', 'orane', 'kiwi']"
            ]
          },
          "metadata": {
            "tags": []
          },
          "execution_count": 68
        }
      ]
    }
  ]
}